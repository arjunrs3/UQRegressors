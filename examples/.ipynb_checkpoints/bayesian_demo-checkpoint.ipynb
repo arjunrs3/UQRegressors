{
 "cells": [
  {
   "cell_type": "markdown",
   "id": "b75b1a5c",
   "metadata": {},
   "source": [
    "## Dataset Creation "
   ]
  },
  {
   "cell_type": "code",
   "execution_count": null,
   "id": "d3d28a82",
   "metadata": {},
   "outputs": [],
   "source": [
    "import numpy as np\n",
    "\n",
    "\n",
    "rng = np.random.RandomState(42)\n",
    "def true_function(x):\n",
    "    return np.sin(2 * np.pi * x)\n",
    "\n",
    "X_test = np.linspace(0, 1, 200).reshape(-1, 1)\n",
    "y_true = true_function(X_test)\n",
    "\n",
    "X_train = np.sort(rng.rand(10, 1))\n",
    "y_train = true_function(X_train).ravel() "
   ]
  },
  {
   "cell_type": "markdown",
   "id": "9d5e9129",
   "metadata": {},
   "source": [
    "## Plotting"
   ]
  },
  {
   "cell_type": "code",
   "execution_count": null,
   "id": "1c1ad34f",
   "metadata": {},
   "outputs": [],
   "source": [
    "import matplotlib.pyplot as plt\n",
    "\n",
    "def plot_uncertainty_results(mean, lower, upper, model_name): \n",
    "    plt.figure(figsize=(10, 6))\n",
    "    plt.plot(X_test, y_true, 'g--', label=\"True Function\")\n",
    "    plt.scatter(X_train, y_train, color='black', label=\"Training data\", alpha=0.6)\n",
    "    plt.plot(X_test, mean, label=\"Predicted Mean\", color=\"blue\")\n",
    "    plt.fill_between(X_test.ravel(), lower, upper, alpha=0.3, color=\"blue\", label = \"Uncertainty Interval\")\n",
    "    plt.legend()\n",
    "    plt.title(f\"{model_name} Uncertainty Test\")\n",
    "    plt.xlabel(\"x\")\n",
    "    plt.ylabel(\"y\")\n",
    "    plt.show()"
   ]
  },
  {
   "cell_type": "markdown",
   "id": "38e1100f",
   "metadata": {},
   "source": [
    "## MC Dropout"
   ]
  },
  {
   "cell_type": "code",
   "execution_count": null,
   "id": "cb9a1d34",
   "metadata": {},
   "outputs": [],
   "source": [
    "from src.uqregressors.bayesian.dropout import MCDropoutRegressor\n",
    "\n",
    "model = MCDropoutRegressor(\n",
    "    hidden_sizes=[100, 100],\n",
    "    dropout=0.1,\n",
    "    alpha=0.1,  # 90% confidence\n",
    "    n_samples=100,\n",
    "    epochs=1000,\n",
    "    learning_rate=1e-3,\n",
    "    device=\"cpu\",  # use \"cuda\" if GPU available\n",
    "    use_wandb=False\n",
    ")\n",
    "\n",
    "model.fit(X_train, y_train)\n",
    "mean, lower, upper = model.predict(X_test)\n",
    "\n",
    "plot_uncertainty_results(mean, lower, upper, \"MC Dropout Regressor\")"
   ]
  }
 ],
 "metadata": {
  "language_info": {
   "name": "python"
  }
 },
 "nbformat": 4,
 "nbformat_minor": 5
}
